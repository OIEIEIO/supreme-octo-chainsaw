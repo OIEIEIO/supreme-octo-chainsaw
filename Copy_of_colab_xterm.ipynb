{
  "nbformat": 4,
  "nbformat_minor": 0,
  "metadata": {
    "colab": {
      "name": "Copy of colab-xterm.ipynb",
      "provenance": [],
      "collapsed_sections": [],
      "machine_shape": "hm",
      "include_colab_link": true
    },
    "kernelspec": {
      "name": "python3",
      "display_name": "Python 3"
    },
    "language_info": {
      "name": "python"
    }
  },
  "cells": [
    {
      "cell_type": "markdown",
      "metadata": {
        "id": "view-in-github",
        "colab_type": "text"
      },
      "source": [
        "<a href=\"https://colab.research.google.com/github/OIEIEIO/supreme-octo-chainsaw/blob/main/Copy_of_colab_xterm.ipynb\" target=\"_parent\"><img src=\"https://colab.research.google.com/assets/colab-badge.svg\" alt=\"Open In Colab\"/></a>"
      ]
    },
    {
      "cell_type": "code",
      "source": [
        "!pip install colab-xterm\n",
        "%load_ext colabxterm"
      ],
      "metadata": {
        "colab": {
          "base_uri": "https://localhost:8080/"
        },
        "id": "qnz_zEcp5zAJ",
        "outputId": "2ce15a2d-979e-4fc9-f888-3936fd75018e"
      },
      "execution_count": null,
      "outputs": [
        {
          "output_type": "stream",
          "name": "stdout",
          "text": [
            "Collecting colab-xterm\n",
            "  Downloading colab_xterm-0.1.2-py3-none-any.whl (115 kB)\n",
            "\u001b[?25l\r\u001b[K     |██▉                             | 10 kB 26.9 MB/s eta 0:00:01\r\u001b[K     |█████▊                          | 20 kB 9.3 MB/s eta 0:00:01\r\u001b[K     |████████▌                       | 30 kB 7.8 MB/s eta 0:00:01\r\u001b[K     |███████████▍                    | 40 kB 3.5 MB/s eta 0:00:01\r\u001b[K     |██████████████▏                 | 51 kB 3.5 MB/s eta 0:00:01\r\u001b[K     |█████████████████               | 61 kB 4.2 MB/s eta 0:00:01\r\u001b[K     |███████████████████▉            | 71 kB 4.4 MB/s eta 0:00:01\r\u001b[K     |██████████████████████▊         | 81 kB 4.7 MB/s eta 0:00:01\r\u001b[K     |█████████████████████████▋      | 92 kB 5.2 MB/s eta 0:00:01\r\u001b[K     |████████████████████████████▍   | 102 kB 4.1 MB/s eta 0:00:01\r\u001b[K     |███████████████████████████████▎| 112 kB 4.1 MB/s eta 0:00:01\r\u001b[K     |████████████████████████████████| 115 kB 4.1 MB/s \n",
            "\u001b[?25hRequirement already satisfied: tornado>5.1 in /usr/local/lib/python3.7/dist-packages (from colab-xterm) (5.1.1)\n",
            "Requirement already satisfied: ptyprocess~=0.7.0 in /usr/local/lib/python3.7/dist-packages (from colab-xterm) (0.7.0)\n",
            "Installing collected packages: colab-xterm\n",
            "Successfully installed colab-xterm-0.1.2\n"
          ]
        }
      ]
    },
    {
      "cell_type": "code",
      "source": [
        "%xterm"
      ],
      "metadata": {
        "id": "L6fpF-d37DN1"
      },
      "execution_count": null,
      "outputs": []
    }
  ]
}