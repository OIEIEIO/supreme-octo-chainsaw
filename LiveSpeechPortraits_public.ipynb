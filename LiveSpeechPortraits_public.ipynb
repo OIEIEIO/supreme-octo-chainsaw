{
  "nbformat": 4,
  "nbformat_minor": 0,
  "metadata": {
    "colab": {
      "name": "LiveSpeechPortraits public.ipynb",
      "provenance": [],
      "collapsed_sections": [],
      "include_colab_link": true
    },
    "kernelspec": {
      "name": "python3",
      "display_name": "Python 3"
    },
    "language_info": {
      "name": "python"
    },
    "accelerator": "GPU"
  },
  "cells": [
    {
      "cell_type": "markdown",
      "metadata": {
        "id": "view-in-github",
        "colab_type": "text"
      },
      "source": [
        "<a href=\"https://colab.research.google.com/github/OIEIEIO/supreme-octo-chainsaw/blob/main/LiveSpeechPortraits_public.ipynb\" target=\"_parent\"><img src=\"https://colab.research.google.com/assets/colab-badge.svg\" alt=\"Open In Colab\"/></a>"
      ]
    },
    {
      "cell_type": "markdown",
      "metadata": {
        "id": "eTr1YWVXa0WB"
      },
      "source": [
        "Колаб и перевод: Александр Спирин, \n",
        "https://github.com/Sxela\n",
        "https://t.me/derplearning\n",
        "\n",
        "-\n",
        "\n",
        "Авторы LiveSpeechPortraits: Lu, Yuanxun and Chai, Jinxiang and Cao, Xun\n",
        "\n",
        "Исходник: https://github.com/YuanxunLu/LiveSpeechPortraits\n",
        "\n",
        "Сайт: https://yuanxunlu.github.io/projects/LiveSpeechPortraits/\n",
        "\n",
        "Как обычно, в колабе есть удобный загрузчик файлов, можно обработать сразу пачку и скачать архивом.\n",
        "\n",
        "-\n",
        "\n",
        "Поддержать автора рублём: https://www.donationalerts.com/r/derplearning\n",
        "\n",
        "(если есть колаб для перевода или починки на примете - обязательно укажите в комментарии.)\n",
        "Спасибо!"
      ]
    },
    {
      "cell_type": "code",
      "metadata": {
        "id": "8McdmHO0Q4y-"
      },
      "source": [
        "# @title Установка, запускаем 1 раз. \n",
        "\n",
        "%cd /content\n",
        "!git clone https://github.com/YuanxunLu/LiveSpeechPortraits\n",
        "%cd /content/LiveSpeechPortraits\n",
        "\n",
        "import fileinput\n",
        "\n",
        "with fileinput.FileInput('/content/LiveSpeechPortraits/demo.py', inplace=True, backup='.bak') as file:\n",
        "    for line in file:\n",
        "        print(line.replace(\".avi\", \".mp4\"), end='')\n",
        "with fileinput.FileInput('/content/LiveSpeechPortraits/demo.py', inplace=True, backup='.bak') as file:\n",
        "    for line in file:\n",
        "        print(line.replace(\" -codec copy -shortest \", \" -vcodec libx264 -shortest \"), end='')\n",
        "\n",
        "\n",
        "%cd /content/LiveSpeechPortraits\n",
        "!gdown https://drive.google.com/uc?id=1qmBeIOlk8sIxclMTpDcpFe2p0ZidGcpW\n",
        "!gdown https://drive.google.com/uc?id=17V81spMW3E6X1wCUAE4DcGgyvXf2wg_4\n",
        "!rm -rf /content/LiveSpeechPortraits/data\n",
        "!unzip -qq /content/LiveSpeechPortraits/data-20210924T094538Z-001.zip\n",
        "!unzip -qq /content/LiveSpeechPortraits/data-20210924T094538Z-002.zip\n",
        "\n",
        "!pip uninstall numba librosa -y -qq\n",
        "!pip install -qq dominate sox librosa==0.7.2 albumentations beautifulsoup4 numba==0.48.0 -qq\n",
        "\n",
        "from google.colab import files\n",
        "import ipywidgets as widgets\n",
        "from IPython.display import clear_output \n",
        "from IPython.display import display\n",
        "import glob, os, time\n",
        "\n",
        "def makePortrait(file, id):\n",
        "  !python demo.py --id {id} --driving_audio \"{file}\"\n",
        "\n",
        "def download(path, prefix):\n",
        "  print('\\nCкачиваем...\\n')\n",
        "  timestamp = round(time.time())\n",
        "  !zip -r /content/{prefix}-{timestamp}.zip {path}\n",
        "  files.download(f\"/content/{prefix}-{timestamp}.zip\")\n",
        "\n",
        "def reset(p):\n",
        "  with output_reset:\n",
        "    clear_output()\n",
        "  clear_output()\n",
        "  process()\n",
        "\n",
        "results = None\n",
        "!mkdir /content/in\n",
        "%cd /content/in\n",
        "from tqdm.notebook import tqdm\n",
        " \n",
        "import warnings\n",
        "warnings.filterwarnings(\"ignore\")\n",
        " \n",
        "button_reset = widgets.Button(description=\"Загрузить еще видео или аудио\")\n",
        "output_reset = widgets.Output()\n",
        "button_reset.on_click(reset)\n",
        "\n",
        "def process(id):\n",
        "  !rm -rf /content/in/*\n",
        "  os.makedirs('/content/in', exist_ok=True)\n",
        "  %cd /content/in/\n",
        "  uploaded = files.upload()\n",
        "  if len(uploaded.keys())<=0: \n",
        "    print('\\nФайлы не загружены. Поробуйте снова.\\n')\n",
        "    return\n",
        "  \n",
        "  !rm -rf /content/out/*\n",
        "  os.makedirs('/content/out', exist_ok=True)\n",
        "  !rm -rf /content/LiveSpeechPortraits/results/*\n",
        "  os.makedirs('/content/LiveSpeechPortraits/results', exist_ok=True)\n",
        "  \n",
        "  print('\\nНажмите кнопку и выберите аудио или видео\\n (можно сразу несколько)\\n')\n",
        "  \n",
        "  input_files = sorted(glob.glob('/content/in/*'))\n",
        "  %cd /content/LiveSpeechPortraits\n",
        "  for file in tqdm(input_files):\n",
        "    makePortrait(file, id)\n",
        "  outputs = glob.glob('/content/LiveSpeechPortraits/results/**/*[!feature_maps].mp4', recursive=True)\n",
        "  for f in outputs:\n",
        "    !cp \"{f}\" \"/content/out/{f.split('/')[-1]}\"\n",
        "  download('/content/out', f'LiveSpeechPortraits')\n"
      ],
      "execution_count": null,
      "outputs": []
    },
    {
      "cell_type": "code",
      "metadata": {
        "id": "HIpP5zzFVvD0"
      },
      "source": [
        "# @title Выбираем говорящую голову из списка и запускаем ячейку\n",
        "# @markdown Затем выбираем и загружаем аудиофайлы и ждем результата. Он скачается автоматически, либо вы можете посмотреть его в папке /content/out\n",
        "id = 'May' #@param ['May', 'McStay', 'Nadella', 'Obama1', 'Obama2'] {\"type\": \"string\"}\n",
        "process(id) "
      ],
      "execution_count": null,
      "outputs": []
    }
  ]
}