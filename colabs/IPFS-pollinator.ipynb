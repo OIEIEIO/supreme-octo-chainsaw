{
  "nbformat": 4,
  "nbformat_minor": 0,
  "metadata": {
    "accelerator": "GPU",
    "colab": {
      "name": "Pollinator",
      "private_outputs": true,
      "provenance": [],
      "collapsed_sections": [],
      "machine_shape": "hm",
      "include_colab_link": true
    },
    "kernelspec": {
      "display_name": "Python 3",
      "name": "python3"
    }
  },
  "cells": [
    {
      "cell_type": "markdown",
      "metadata": {
        "id": "view-in-github",
        "colab_type": "text"
      },
      "source": [
        "<a href=\"https://colab.research.google.com/github/OIEIEIO/supreme-octo-chainsaw/blob/main/colabs/IPFS-pollinator.ipynb\" target=\"_parent\"><img src=\"https://colab.research.google.com/assets/colab-badge.svg\" alt=\"Open In Colab\"/></a>"
      ]
    },
    {
      "cell_type": "markdown",
      "metadata": {
        "id": "ko_JJEB3YcC9"
      },
      "source": [
        "# Pollinator\n",
        "\n",
        "![Pollination Zoom](http://db2c-35-221-194-199.ngrok.io/super-chicken-index.png)\n",
        "\n",
        "Does the heavy-lifting for **Pollinations.AI** on Google Colab's free GPUs.\n",
        "\n",
        "Click *Runtime - Run All*, switch back to the **Pollinations** tab of the browser and wait a little for the connection to be established.\n",
        "\n",
        "![](https://pollinations.ai/Runtime-RunAll.png)\n",
        "\n",
        "*If you have already run the Pollinator but the node is not appearing in the bottom right of Pollinations.ai, try Runtime -> Restart and Run All*"
      ]
    },
    {
      "cell_type": "code",
      "metadata": {
        "id": "RcWlME-DwhrS"
      },
      "source": [
        "#@title Config and Requirements\n",
        "\n",
        "!pip install --upgrade pip\n",
        "!pip install --upgrade typing-extensions==3.10.0.2\n",
        "!pip install papermill json5\n",
        "from IPython.display import clear_output\n",
        "from os.path import join, basename\n",
        "from shlex import quote\n",
        "\n",
        "from glob import glob\n",
        "from json5 import loads\n",
        "\n",
        "from subprocess import Popen, PIPE, STDOUT\n",
        "from sys import stdout\n",
        "import os\n",
        "\n",
        "clear_output()\n",
        "#ipfs_nodeid = generate_slug(2)#asyncio.run(loop.create_task(get_node_id()))\n",
        "ipfs_root = \"/content/ipfs\"\n",
        "worker_root = \"/content\"\n",
        "notebook_path = join(ipfs_root,\"input\", \"notebook.ipynb\")\n",
        "\n",
        "print(f\"---Settings---\\nIPFS_ROOT: {ipfs_root}\")\n",
        "\n",
        "node_id = None\n",
        "if os.path.exists(\"/home/ubuntu/node_id\"):\n",
        "  with open(\"/home/ubuntu/node_id\") as f:\n",
        "    node_id = f.readline()\n",
        "    print(\"Node-id: \", node_id)"
      ],
      "execution_count": null,
      "outputs": []
    },
    {
      "cell_type": "code",
      "metadata": {
        "id": "pWfAE_iqBMdB"
      },
      "source": [
        "#@title Empty and create ipfs root: */content/ipfs*\n",
        "\n",
        "\n",
        "\n",
        "!rm -r $ipfs_root\n",
        "!mkdir -p $ipfs_root\n",
        "!mkdir -p $ipfs_root/input\n",
        "!mkdir -p $ipfs_root/output\n",
        "\n",
        "#clear_output()"
      ],
      "execution_count": null,
      "outputs": []
    },
    {
      "cell_type": "code",
      "metadata": {
        "id": "9j1zUbMN4VDP"
      },
      "source": [
        "#@title Install Pollinations CLI\n",
        "\n",
        "!wget -N https://nodejs.org/dist/v16.14.0/node-v16.14.0-linux-x64.tar.xz\n",
        "!tar -xf node-v16.14.0-linux-x64.tar.xz\n",
        "!rm -rf /tools/node/*\n",
        "!cp -r /content/node-v16.14.0-linux-x64/* /tools/node\n",
        "\n",
        "\n",
        "%cd /content\n",
        "!git clone https://github.com/pollinations/pollinations.git\n",
        "%cd /content/pollinations/app\n",
        "!git pull\n",
        "!git checkout seedling\n",
        "!git pull\n",
        "!npm run install_backend\n",
        "%cd -\n",
        "\n",
        "#clear_output()"
      ],
      "execution_count": null,
      "outputs": []
    },
    {
      "cell_type": "code",
      "metadata": {
        "id": "hH76cPjgwZBJ"
      },
      "source": [
        "#@title Get GPU and Node ID\n",
        "\n",
        "#!/content/pollinations/ipfs/ipfsd_install_colab.sh\n",
        "#!nohup /content/pollinations/ipfs/ipfsd_forever.sh &\n",
        "#!sleep 5\n",
        "clear_output()\n",
        "\n",
        "if node_id is None:\n",
        "  node_id=!tr -dc A-Za-z0-9 </dev/urandom | head -c 13 ; echo ''\n",
        "  node_id=node_id[0]\n",
        "\n",
        "gpu_description=!nvidia-smi -L\n",
        "gpu_description=gpu_description[0]\n",
        "\n",
        "\n",
        "print(\"---Node ID---:\", node_id, gpu_description)"
      ],
      "execution_count": null,
      "outputs": []
    },
    {
      "cell_type": "code",
      "metadata": {
        "id": "A4TYvT7yoGvE"
      },
      "source": [
        "#@title Create connection to frontend UI\n",
        "\n",
        "import IPython\n",
        "# from google.colab import output\n",
        "\n",
        "import urllib.request\n",
        "\n",
        "def iframe_js(url):\n",
        "    code = f'''\n",
        "      console.log(\"appending iframe of {url}\")\n",
        "      const iframe = document.createElement(\"iframe\")\n",
        "      iframe.frameBorder = 0\n",
        "      iframe.width = 250\n",
        "      iframe.height = 250\n",
        "      iframe.src = `{url}/incolab.html?node={node_id}&gpu={gpu_description}`\n",
        "      document.querySelector(\"#output-area\").appendChild(iframe)\n",
        "      console.log(\"appended iframe of {url}\")\n",
        "      '''\n",
        "    display(IPython.display.Javascript(code))\n",
        "\n",
        "iframe_js(\"https://pollinations.ai\")\n",
        "iframe_js(\"https://seedling.pollinations.ai\")\n",
        "iframe_js(\"http://localhost:3000\")\n"
      ],
      "execution_count": null,
      "outputs": []
    },
    {
      "cell_type": "code",
      "metadata": {
        "id": "2qcR2Tgghrf3"
      },
      "source": [
        "#@title Notebook Runner\n",
        "from time import sleep\n",
        "import sys\n",
        "import matplotlib\n",
        "matplotlib.use('Agg')\n",
        "!pip config set global.progress_bar off\n",
        "output_path = ipfs_root+\"/output\"\n",
        "\n",
        "!pollinate --execute \"run_notebook.sh\" -l $output_path/log -p $ipfs_root --ipns -n $node_id --debounce 1500 > /content/cid\n"
      ],
      "execution_count": null,
      "outputs": []
    },
    {
      "cell_type": "code",
      "source": [
        ""
      ],
      "metadata": {
        "id": "-H_X2LWGZ1eH"
      },
      "execution_count": null,
      "outputs": []
    }
  ]
}