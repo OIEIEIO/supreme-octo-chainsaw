{
  "nbformat": 4,
  "nbformat_minor": 0,
  "metadata": {
    "colab": {
      "name": "TTS-basic-template.ipynb",
      "provenance": [],
      "collapsed_sections": [],
      "authorship_tag": "ABX9TyOfObMtD5qpj0GnwVF2y982",
      "include_colab_link": true
    },
    "kernelspec": {
      "name": "python3",
      "display_name": "Python 3"
    },
    "language_info": {
      "name": "python"
    }
  },
  "cells": [
    {
      "cell_type": "markdown",
      "metadata": {
        "id": "view-in-github",
        "colab_type": "text"
      },
      "source": [
        "<a href=\"https://colab.research.google.com/github/OIEIEIO/supreme-octo-chainsaw/blob/main/TTS_basic_template.ipynb\" target=\"_parent\"><img src=\"https://colab.research.google.com/assets/colab-badge.svg\" alt=\"Open In Colab\"/></a>"
      ]
    },
    {
      "cell_type": "code",
      "source": [
        "from google.colab import drive\n",
        "drive.mount('/content/gdrive')"
      ],
      "metadata": {
        "colab": {
          "base_uri": "https://localhost:8080/"
        },
        "id": "UWwYoAyyGHCx",
        "outputId": "e30925e2-269d-4424-9e16-4af93c294db1"
      },
      "execution_count": 2,
      "outputs": [
        {
          "output_type": "stream",
          "name": "stdout",
          "text": [
            "Drive already mounted at /content/gdrive; to attempt to forcibly remount, call drive.mount(\"/content/gdrive\", force_remount=True).\n"
          ]
        }
      ]
    },
    {
      "cell_type": "code",
      "execution_count": 3,
      "metadata": {
        "colab": {
          "base_uri": "https://localhost:8080/"
        },
        "id": "HsbufrgNUE7l",
        "outputId": "27714df7-df27-4b6d-b2ee-cbfea218aada"
      },
      "outputs": [
        {
          "output_type": "stream",
          "name": "stdout",
          "text": [
            "/content/black-stream-337600-b6d8791359e9.json\n"
          ]
        }
      ],
      "source": [
        "import os\n",
        "\n",
        "os.environ['GOOGLE_APPLICATION_CREDENTIALS'] = '/content/black-stream-337600-b6d8791359e9.json'\n",
        "\n",
        "!echo $GOOGLE_APPLICATION_CREDENTIALS"
      ]
    },
    {
      "cell_type": "code",
      "source": [
        "!pip install --upgrade google-cloud-texttospeech"
      ],
      "metadata": {
        "id": "oTPqWourWU0Y"
      },
      "execution_count": null,
      "outputs": []
    },
    {
      "cell_type": "code",
      "source": [
        "text = 'Super Chicken is a chicken with superpowers! He can fly and shoot lasers from his eyes! Hes the most powerful chicken in the world, and hes ready to save the day!'"
      ],
      "metadata": {
        "id": "U-6R4802ZUgl"
      },
      "execution_count": 10,
      "outputs": []
    },
    {
      "cell_type": "code",
      "source": [
        "def synthesize_text(text): \n",
        "\n",
        "   \"\"\"Synthesizes speech from the input string of text.\"\"\"\n",
        "\n",
        "from google.cloud import texttospeech\n",
        "\n",
        "client = texttospeech.TextToSpeechClient()\n",
        "\n",
        "input_text = texttospeech.SynthesisInput(text=text)\n",
        "\n",
        "# Note: the voice can also be specified by name.\n",
        "# Names of voices can be retrieved with client.list_voices().\n",
        "\n",
        "voice = texttospeech.VoiceSelectionParams(\n",
        "    language_code=\"en-US\",\n",
        "    name=\"en-US-Wavenet-J\",\n",
        "    ssml_gender=texttospeech.SsmlVoiceGender.MALE,\n",
        "    )\n",
        "audio_config = texttospeech.AudioConfig(\n",
        "    audio_encoding=texttospeech.AudioEncoding.MP3\n",
        "    )\n",
        "response = client.synthesize_speech(\n",
        "    request={\"input\": input_text, \"voice\": voice, \"audio_config\": audio_config}\n",
        "    )\n",
        "# The response's audio_content is binary.\n",
        "\n",
        "with open(\"output-2.mp3\", \"wb\") as out:\n",
        "  out.write(response.audio_content)\n",
        "  \n",
        "print('Audio content written to file \"output.mp3\"')\n",
        "\n",
        "# The text can be a random text.\n",
        "# The audio file will be saved in the same directory as this notebook.\n",
        "# \n",
        "# The audio file can be played using any media player as it is in .mp3 format.\n",
        "\n",
        "# To remove the generated audio file, uncomment the below line.\n",
        "# os.remove(\"output.mp3\") \n",
        "\n",
        "# Reference\n",
        "# \n",
        "# https://cloud.google.com/text-to-speech/\n"
      ],
      "metadata": {
        "colab": {
          "base_uri": "https://localhost:8080/"
        },
        "id": "NlLSUiNqbqpx",
        "outputId": "e03b93fb-40a6-40dc-e63e-9ac69d2b8538"
      },
      "execution_count": 11,
      "outputs": [
        {
          "output_type": "stream",
          "name": "stdout",
          "text": [
            "Audio content written to file \"output.mp3\"\n"
          ]
        }
      ]
    },
    {
      "cell_type": "code",
      "source": [
        "mp3file = synthesize_text(text)"
      ],
      "metadata": {
        "id": "yU2rLmZxZ2si"
      },
      "execution_count": 12,
      "outputs": []
    }
  ]
}