{
  "cells": [
    {
      "cell_type": "markdown",
      "metadata": {
        "id": "view-in-github",
        "colab_type": "text"
      },
      "source": [
        "<a href=\"https://colab.research.google.com/github/OIEIEIO/supreme-octo-chainsaw/blob/main/notebooks/keras-test-setup.ipynb\" target=\"_parent\"><img src=\"https://colab.research.google.com/assets/colab-badge.svg\" alt=\"Open In Colab\"/></a>"
      ]
    },
    {
      "cell_type": "markdown",
      "metadata": {
        "id": "GcI1iiJ8dk_U"
      },
      "source": [
        "# Notebook for testing the Keras setup\n",
        "\n",
        "This netbook is for testing the [Keras](https://keras.io/) setup for the ML hands-on.  Below is a set of required imports.  \n",
        "\n",
        "Run the cell, and no error messages should appear.  In particular, **Keras 2 is required**. Keras also informs which backend (Theano, Tensorflow, or CNTK) it will be using. \n",
        "\n",
        "Some warnings may appear, this should be fine."
      ]
    },
    {
      "cell_type": "code",
      "execution_count": 1,
      "metadata": {
        "id": "snBo_gOndk_X",
        "outputId": "1137e5c9-6d61-4492-cc4f-ae67be75d7b6",
        "colab": {
          "base_uri": "https://localhost:8080/"
        }
      },
      "outputs": [
        {
          "output_type": "stream",
          "name": "stdout",
          "text": [
            "Using Keras version: 2.8.0 backend: tensorflow\n"
          ]
        }
      ],
      "source": [
        "%matplotlib inline\n",
        "\n",
        "from keras.models import Sequential\n",
        "from keras.layers import Dense, Activation, Dropout, Flatten, MaxPooling2D\n",
        "from keras.layers.convolutional import Conv2D \n",
        "from keras.layers.recurrent import SimpleRNN, LSTM, GRU \n",
        "from keras.utils import np_utils\n",
        "from keras import backend as K\n",
        "\n",
        "from distutils.version import LooseVersion as LV\n",
        "from keras import __version__\n",
        "\n",
        "from IPython.display import SVG\n",
        "from keras.utils.vis_utils import model_to_dot\n",
        "\n",
        "from keras.datasets import mnist, fashion_mnist, imdb\n",
        "\n",
        "from sklearn.model_selection import train_test_split\n",
        "\n",
        "import numpy as np\n",
        "import matplotlib.pyplot as plt\n",
        "import seaborn as sns\n",
        "\n",
        "print('Using Keras version:', __version__, 'backend:', K.backend())\n",
        "assert(LV(__version__) >= LV(\"2.0.0\"))"
      ]
    },
    {
      "cell_type": "markdown",
      "metadata": {
        "id": "F4IY7SsSdk_b"
      },
      "source": [
        "If the backend is Tensorflow, we can display some further information:"
      ]
    },
    {
      "cell_type": "code",
      "execution_count": 2,
      "metadata": {
        "id": "mgClqkzYdk_c",
        "outputId": "569d1e23-8c8c-46e0-8705-2c536e77c095",
        "colab": {
          "base_uri": "https://localhost:8080/"
        }
      },
      "outputs": [
        {
          "output_type": "stream",
          "name": "stdout",
          "text": [
            "Using TensorFlow version: 2.8.0 , GPU: /device:GPU:0\n"
          ]
        }
      ],
      "source": [
        "if K.backend() == \"tensorflow\":\n",
        "    import tensorflow as tf\n",
        "    device_name = tf.test.gpu_device_name()\n",
        "    if device_name == '':\n",
        "        device_name = \"None\"\n",
        "    print('Using TensorFlow version:', tf.__version__, ', GPU:', device_name)"
      ]
    },
    {
      "cell_type": "markdown",
      "metadata": {
        "id": "jcRBY8Addk_d"
      },
      "source": [
        "## Getting started: 30 seconds to Keras\n",
        "\n",
        "(This section is adapted from https://keras.io/)\n",
        "\n",
        "The core data structure of Keras is a **model**, a way to organize layers. The main type of model is the `Sequential` model, a linear stack of layers.\n",
        "\n",
        "A model is initialized by calling `Sequential()`:"
      ]
    },
    {
      "cell_type": "code",
      "execution_count": 3,
      "metadata": {
        "id": "p8ab9K5udk_e"
      },
      "outputs": [],
      "source": [
        "model = Sequential()"
      ]
    },
    {
      "cell_type": "markdown",
      "metadata": {
        "id": "YqSDXFw-dk_f"
      },
      "source": [
        "Stacking layers is as easy as `.add()`:"
      ]
    },
    {
      "cell_type": "code",
      "execution_count": 4,
      "metadata": {
        "id": "uSQpk2uIdk_g"
      },
      "outputs": [],
      "source": [
        "model.add(Dense(units=64, input_dim=100))\n",
        "model.add(Activation(\"relu\"))\n",
        "model.add(Dense(units=10))\n",
        "model.add(Activation(\"softmax\"))"
      ]
    },
    {
      "cell_type": "markdown",
      "metadata": {
        "id": "SzlSHHWSdk_h"
      },
      "source": [
        "A summary of the model:"
      ]
    },
    {
      "cell_type": "code",
      "execution_count": 5,
      "metadata": {
        "id": "oJGJMvjbdk_j",
        "outputId": "1a4aa798-a44c-4bb2-81a1-0836f6b3b3ec",
        "colab": {
          "base_uri": "https://localhost:8080/"
        }
      },
      "outputs": [
        {
          "output_type": "stream",
          "name": "stdout",
          "text": [
            "Model: \"sequential\"\n",
            "_________________________________________________________________\n",
            " Layer (type)                Output Shape              Param #   \n",
            "=================================================================\n",
            " dense (Dense)               (None, 64)                6464      \n",
            "                                                                 \n",
            " activation (Activation)     (None, 64)                0         \n",
            "                                                                 \n",
            " dense_1 (Dense)             (None, 10)                650       \n",
            "                                                                 \n",
            " activation_1 (Activation)   (None, 10)                0         \n",
            "                                                                 \n",
            "=================================================================\n",
            "Total params: 7,114\n",
            "Trainable params: 7,114\n",
            "Non-trainable params: 0\n",
            "_________________________________________________________________\n",
            "None\n"
          ]
        }
      ],
      "source": [
        "print(model.summary())"
      ]
    },
    {
      "cell_type": "markdown",
      "metadata": {
        "id": "iVPKp0W5dk_k"
      },
      "source": [
        "Let's draw a fancier graph of our model:\n",
        "\n",
        "*Note: This does not work in Google Colaboratory.*"
      ]
    },
    {
      "cell_type": "code",
      "execution_count": null,
      "metadata": {
        "id": "Rx9mhFAZdk_l"
      },
      "outputs": [],
      "source": [
        "SVG(model_to_dot(model, show_shapes=True).create(prog='dot', format='svg'))"
      ]
    },
    {
      "cell_type": "markdown",
      "metadata": {
        "id": "l88JIEJFdk_m"
      },
      "source": [
        "Once your model looks good, configure its learning process with `.compile()`:"
      ]
    },
    {
      "cell_type": "code",
      "execution_count": 7,
      "metadata": {
        "id": "RSbNWygidk_n"
      },
      "outputs": [],
      "source": [
        "model.compile(loss='categorical_crossentropy', \n",
        "              optimizer='sgd', \n",
        "              metrics=['accuracy'])"
      ]
    },
    {
      "cell_type": "markdown",
      "metadata": {
        "id": "Q31OGIK6dk_n"
      },
      "source": [
        "You can now begin training your model with `.fit()`.  Let's generate some random data and use it to train the model:"
      ]
    },
    {
      "cell_type": "code",
      "execution_count": 8,
      "metadata": {
        "id": "WwROMZvPdk_p",
        "outputId": "787e46c7-9659-4ced-dce3-acbedf56522a",
        "colab": {
          "base_uri": "https://localhost:8080/"
        }
      },
      "outputs": [
        {
          "output_type": "stream",
          "name": "stdout",
          "text": [
            "Epoch 1/5\n",
            "4/4 - 2s - loss: 2.4349 - accuracy: 0.1094 - 2s/epoch - 605ms/step\n",
            "Epoch 2/5\n",
            "4/4 - 0s - loss: 2.4014 - accuracy: 0.1094 - 9ms/epoch - 2ms/step\n",
            "Epoch 3/5\n",
            "4/4 - 0s - loss: 2.3765 - accuracy: 0.1016 - 9ms/epoch - 2ms/step\n",
            "Epoch 4/5\n",
            "4/4 - 0s - loss: 2.3542 - accuracy: 0.1250 - 10ms/epoch - 2ms/step\n",
            "Epoch 5/5\n",
            "4/4 - 0s - loss: 2.3367 - accuracy: 0.1172 - 9ms/epoch - 2ms/step\n"
          ]
        }
      ],
      "source": [
        "X_train = np.random.rand(128, 100)\n",
        "Y_train = np_utils.to_categorical(np.random.randint(10, size=128))\n",
        "\n",
        "model.fit(X_train, Y_train, epochs=5, batch_size=32, verbose=2);"
      ]
    },
    {
      "cell_type": "markdown",
      "metadata": {
        "id": "wBhhn6BHdk_q"
      },
      "source": [
        "Evaluate your performance on test data with `.evaluate():`"
      ]
    },
    {
      "cell_type": "code",
      "execution_count": 9,
      "metadata": {
        "id": "Hb7ntGnjdk_r",
        "outputId": "96734d87-b780-41bf-da5d-e36124b2a4f6",
        "colab": {
          "base_uri": "https://localhost:8080/"
        }
      },
      "outputs": [
        {
          "output_type": "stream",
          "name": "stdout",
          "text": [
            "2/2 [==============================] - 0s 4ms/step - loss: 2.4521 - accuracy: 0.0938\n",
            "\n",
            "loss: 2.4521236419677734 acc: 0.09375\n"
          ]
        }
      ],
      "source": [
        "X_test = np.random.rand(64, 100)\n",
        "Y_test = np_utils.to_categorical(np.random.randint(10, size=64))\n",
        "\n",
        "loss, acc = model.evaluate(X_test, Y_test, batch_size=32)\n",
        "print()\n",
        "print('loss:', loss, 'acc:', acc)"
      ]
    },
    {
      "cell_type": "code",
      "execution_count": null,
      "metadata": {
        "id": "PVqPDaRydk_s"
      },
      "outputs": [],
      "source": [
        ""
      ]
    },
    {
      "cell_type": "code",
      "execution_count": null,
      "metadata": {
        "id": "oRmmFYmDdk_s"
      },
      "outputs": [],
      "source": [
        ""
      ]
    },
    {
      "cell_type": "markdown",
      "metadata": {
        "id": "cJz5r2qYdk_t"
      },
      "source": [
        "---\n",
        "*Run this notebook in Google Colaboratory using [this link](https://colab.research.google.com/github/csc-training/intro-to-dl/blob/master/day1/keras-test-setup.ipynb).*"
      ]
    }
  ],
  "metadata": {
    "kernelspec": {
      "display_name": "Python 3",
      "language": "python",
      "name": "python3"
    },
    "language_info": {
      "codemirror_mode": {
        "name": "ipython",
        "version": 3
      },
      "file_extension": ".py",
      "mimetype": "text/x-python",
      "name": "python",
      "nbconvert_exporter": "python",
      "pygments_lexer": "ipython3",
      "version": "3.5.2"
    },
    "colab": {
      "name": "keras-test-setup.ipynb",
      "provenance": [],
      "machine_shape": "hm",
      "include_colab_link": true
    },
    "accelerator": "GPU"
  },
  "nbformat": 4,
  "nbformat_minor": 0
}