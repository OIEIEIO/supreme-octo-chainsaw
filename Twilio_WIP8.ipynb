{
  "nbformat": 4,
  "nbformat_minor": 0,
  "metadata": {
    "colab": {
      "name": "Twilio WIP8.ipynb",
      "provenance": [],
      "authorship_tag": "ABX9TyNQE/+td3GubrosJXMkTzSJ",
      "include_colab_link": true
    },
    "kernelspec": {
      "name": "python3",
      "display_name": "Python 3"
    },
    "language_info": {
      "name": "python"
    }
  },
  "cells": [
    {
      "cell_type": "markdown",
      "metadata": {
        "id": "view-in-github",
        "colab_type": "text"
      },
      "source": [
        "<a href=\"https://colab.research.google.com/github/OIEIEIO/supreme-octo-chainsaw/blob/main/Twilio_WIP8.ipynb\" target=\"_parent\"><img src=\"https://colab.research.google.com/assets/colab-badge.svg\" alt=\"Open In Colab\"/></a>"
      ]
    },
    {
      "cell_type": "code",
      "execution_count": 3,
      "metadata": {
        "id": "qtcU6Yofccvx",
        "colab": {
          "base_uri": "https://localhost:8080/"
        },
        "outputId": "47d1e2fc-d6fe-464c-cfb5-2792798d36a0"
      },
      "outputs": [
        {
          "output_type": "stream",
          "name": "stdout",
          "text": [
            "Python 3.7.12\n",
            "Flask 1.1.4\n",
            "Werkzeug 1.0.1\n"
          ]
        }
      ],
      "source": [
        "!flask --version"
      ]
    },
    {
      "cell_type": "code",
      "source": [
        "#@title pip install\n",
        "#@markdown - twilio\n",
        "#@markdown - pyngrok\n",
        "#@markdown - flask\n",
        "#@markdown - flask_login\n",
        "#@markdown - flask_sqlalchemy\n",
        "#@markdown - flask_cors\n",
        "#@markdown - cryptography\n",
        "!pip install twilio\n",
        "!pip install pyngrok\n",
        "!pip install flask\n",
        "!pip install flask_login\n",
        "!pip install flask_sqlalchemy\n",
        "!pip install flask_cors\n",
        "!pip install cryptography\n"
      ],
      "metadata": {
        "id": "bSMZ3z_AXQS-"
      },
      "execution_count": null,
      "outputs": []
    },
    {
      "cell_type": "code",
      "source": [
        "#@title send an SMS message from +18075001327\n",
        "from twilio.rest import Client\n",
        "\n",
        "account_sid = \"XXXXXXXXXXXXXXXXXXXXXXXXXXXXXXXXXXXXXXX\"\n",
        "auth_token = \"XXXXXXXXXXXXXXXXXXXXXXXXXXXXXXXXXX\"\n",
        "client = Client(account_sid, auth_token)\n",
        "\n",
        "message = client.messages.create(\n",
        "    to=\"+15199991327\", #@param\n",
        "    from_=\"+18075001327\", #@param\n",
        "    body=\"unanu mar8.\" #@param {type: \"string\"}\n",
        ")\n",
        "\n",
        "print(message.sid)"
      ],
      "metadata": {
        "colab": {
          "base_uri": "https://localhost:8080/"
        },
        "id": "N36LrF7kF6KF",
        "outputId": "1b022acc-c497-44ee-a44f-b2b411629c81"
      },
      "execution_count": null,
      "outputs": [
        {
          "output_type": "stream",
          "name": "stdout",
          "text": [
            "SM8ba9c265259948c9b49bd7cd9a472175\n"
          ]
        }
      ]
    },
    {
      "cell_type": "code",
      "source": [
        ""
      ],
      "metadata": {
        "id": "LQZoeOFPnDxO"
      },
      "execution_count": null,
      "outputs": []
    },
    {
      "cell_type": "code",
      "source": [
        "#@title kill/delete -  ngrok - before running another instance\n",
        "# Delete ngrok before running the ngrok\n",
        "ngrok.kill()"
      ],
      "metadata": {
        "id": "fVuZpNGcnEQd"
      },
      "execution_count": null,
      "outputs": []
    },
    {
      "cell_type": "code",
      "source": [
        "#@title ngrok Server\n",
        "import getpass\n",
        "\n",
        "from pyngrok import ngrok, conf\n",
        "!ngrok authtoken 25uMNpsXbmgSIVmhcxWXOZFOuCb_Bn41M7pEGMqwwozkGHJA\n",
        "\n",
        "# Open a ngrok tunnel to the HTTP server\n",
        "public_url = ngrok.connect(5000).public_url\n",
        "print(\" * ngrok tunnel \\\"{}\\\" -> \\\"http://127.0.0.1:{}/\\\"\".format(public_url, 5000))\n",
        "\n",
        "# Open a tunnel to a local file server\n",
        "# <NgrokTunnel: \"http://<public_sub>.ngrok.io\" -> \"file:///\">\n",
        "#ngrok.connect(\"file:///\")\n",
        "ngrok.connect(\"file:///content/\")"
      ],
      "metadata": {
        "colab": {
          "base_uri": "https://localhost:8080/"
        },
        "outputId": "a6fc6c85-368d-4db1-ae0d-257d55b1b269",
        "id": "sIjGEITEnEQf"
      },
      "execution_count": null,
      "outputs": [
        {
          "output_type": "stream",
          "name": "stdout",
          "text": [
            "Authtoken saved to configuration file: /root/.ngrok2/ngrok.yml\n",
            " * ngrok tunnel \"http://4994-34-121-129-119.ngrok.io\" -> \"http://127.0.0.1:5000/\"\n"
          ]
        },
        {
          "output_type": "execute_result",
          "data": {
            "text/plain": [
              "<NgrokTunnel: \"http://d572-34-121-129-119.ngrok.io\" -> \"file:///content/\">"
            ]
          },
          "metadata": {},
          "execution_count": 5
        }
      ]
    },
    {
      "cell_type": "code",
      "source": [
        "#@title send Media as a media URL message from +18075001327\n",
        "from twilio.rest import Client\n",
        "\n",
        "account_sid = \"ACf16XXXXXXXXXXXXXXXXXXdb\"\n",
        "auth_token = \"XXXXXXXXXXXXXXXXa699841e785XXXXXXXXXXXXXXX\"\n",
        "client = Client(account_sid, auth_token)\n",
        "\n",
        "message = client.messages.create(\n",
        "    to=\"+15199991327\", #@param\n",
        "    from_=\"+18075001327\", \n",
        "    media_url=[\"http://d572-34-121-129-119.ngrok.io/oieieio_circle.mp4\"], #@param\n",
        "    body=\"nasa -unanu-3D\" #@param\n",
        "    \n",
        "    )\n",
        "\n",
        "print(message.sid)"
      ],
      "metadata": {
        "colab": {
          "base_uri": "https://localhost:8080/"
        },
        "id": "2qvKGMSFurV6",
        "outputId": "79b2aef4-1b9e-4fcc-eb33-4a92ef9224f2"
      },
      "execution_count": null,
      "outputs": [
        {
          "output_type": "stream",
          "name": "stdout",
          "text": [
            "MMf7fa40326f5f4c91aaef43f44e5fc283\n"
          ]
        }
      ]
    },
    {
      "cell_type": "code",
      "source": [
        "\n",
        "#@title sample WebHook\n",
        "from twilio.twiml.voice_response import Play, VoiceResponse\n",
        "\n",
        "response = VoiceResponse()\n",
        "response.play('http://d572-34-121-129-119.ngrok.io/output-2.mp3', loop=10)\n",
        "\n",
        "print(response)"
      ],
      "metadata": {
        "colab": {
          "base_uri": "https://localhost:8080/"
        },
        "id": "3Ps4UZMDYhcX",
        "outputId": "90f324e8-d464-4d03-ce26-a4ae897d1b5a"
      },
      "execution_count": null,
      "outputs": [
        {
          "output_type": "stream",
          "name": "stdout",
          "text": [
            "<?xml version=\"1.0\" encoding=\"UTF-8\"?><Response><Play loop=\"10\">http://d572-34-121-129-119.ngrok.io/output-2.mp3</Play></Response>\n"
          ]
        }
      ]
    },
    {
      "cell_type": "code",
      "source": [
        "#@title get list of all hosted numbers and messages\n",
        "from twilio.rest import Client\n",
        "\n",
        "account_sid = \"XXXXXXXXXXXXXXXXXX\"\n",
        "auth_token = \"XXXXXXXXXXXXXXXXXXXXXXXXXXXXXXXf350\"\n",
        "client = Client(account_sid, auth_token)\n",
        "\n",
        "for sms in client.messages.stream():\n",
        "  print(sms.date_created)\n",
        "  print(sms.from_)\n",
        "  print(sms.to)\n",
        "  print(sms.body)\n",
        "  print(sms.sid)\n",
        "  print(\"\\n\")"
      ],
      "metadata": {
        "id": "Rbg1AWP-czq-"
      },
      "execution_count": null,
      "outputs": []
    },
    {
      "cell_type": "code",
      "source": [
        "#@title get list of all hosted numbers and messages New format \n",
        "from twilio.rest import Client\n",
        "\n",
        "account_sid = \"xxxxxxxxxxxxxxxxxxxxxxxxxxxxxxxxxxxxxxxxxxxxxxXXX\"\n",
        "auth_token = \"xxxxxxxxxxxxxxxxxxxxxxxxxx\"\n",
        "client = Client(account_sid, auth_token)\n",
        "\n",
        "for sms in client.messages.stream():\n",
        "    phone_number = sms.from_\n",
        "    message_body = sms.body\n",
        "    print(\"{}, message: {}\".format(phone_number, message_body))"
      ],
      "metadata": {
        "id": "8eoL1L2P-7rQ"
      },
      "execution_count": null,
      "outputs": []
    },
    {
      "cell_type": "code",
      "source": [
        "# Download the helper library from https://www.twilio.com/docs/python/install\n",
        "import os\n",
        "from twilio.rest import Client\n",
        "\n",
        "\n",
        "# Find your Account SID and Auth Token at twilio.com/console\n",
        "# and set the environment variables. See http://twil.io/secure\n",
        "account_sid = \"Axxxxxxxxxxxxxxxxxxxxxxxxxxxxxb\"\n",
        "auth_token = \"bbbbbbbbbbbbbbbbbbbbbbbbbbbbbbbbbbbbbbbbb0\"\n",
        "\n",
        "client = Client(account_sid, auth_token)\n",
        "\n",
        "phone_numbers = client.messaging \\\n",
        "                      .services('MGbbc33d9aca565b6aa494188b59291ab6') \\\n",
        "                      .phone_numbers \\\n",
        "                      .list(limit=20)\n",
        "\n",
        "for record in phone_numbers:\n",
        "    print(record.sid)\n"
      ],
      "metadata": {
        "colab": {
          "base_uri": "https://localhost:8080/"
        },
        "id": "_v3Un4Y_05TF",
        "outputId": "47d85c23-4376-451d-8bd9-d1ff5ed02f06"
      },
      "execution_count": null,
      "outputs": [
        {
          "output_type": "stream",
          "name": "stdout",
          "text": [
            "PNf4d9a38adbc5a1608c9232793e64ed93\n"
          ]
        }
      ]
    },
    {
      "cell_type": "code",
      "source": [
        ""
      ],
      "metadata": {
        "id": "KftRPvmpH3LM"
      },
      "execution_count": null,
      "outputs": []
    },
    {
      "cell_type": "code",
      "source": [
        "#@title kill/delete -  ngrok - before running another instance\n",
        "# Delete ngrok before running the ngrok\n",
        "ngrok.kill()"
      ],
      "metadata": {
        "id": "OvVFiceV9kut"
      },
      "execution_count": null,
      "outputs": []
    },
    {
      "cell_type": "code",
      "source": [
        "#@title ngrok Server\n",
        "import getpass\n",
        "\n",
        "from pyngrok import ngrok, conf\n",
        "!ngrok authtoken 25uMNpsXbmgSIVmhcxWXOZFOuCb_Bn41M7pEGMqwwozkGHJA\n",
        "\n",
        "# Open a ngrok tunnel to the HTTP server\n",
        "public_url = ngrok.connect(5000).public_url\n",
        "print(\" * ngrok tunnel \\\"{}\\\" -> \\\"http://127.0.0.1:{}/\\\"\".format(public_url, 5000))\n",
        "\n",
        "# Open a tunnel to a local file server\n",
        "# <NgrokTunnel: \"http://<public_sub>.ngrok.io\" -> \"file:///\">\n",
        "#ngrok.connect(\"file:///\")\n",
        "ngrok.connect(\"file:///content/\")"
      ],
      "metadata": {
        "id": "Bf--HIT-aHwu",
        "colab": {
          "base_uri": "https://localhost:8080/"
        },
        "outputId": "a6fc6c85-368d-4db1-ae0d-257d55b1b269"
      },
      "execution_count": null,
      "outputs": [
        {
          "output_type": "stream",
          "name": "stdout",
          "text": [
            "Authtoken saved to configuration file: /root/.ngrok2/ngrok.yml\n",
            " * ngrok tunnel \"http://4994-34-121-129-119.ngrok.io\" -> \"http://127.0.0.1:5000/\"\n"
          ]
        },
        {
          "output_type": "execute_result",
          "data": {
            "text/plain": [
              "<NgrokTunnel: \"http://d572-34-121-129-119.ngrok.io\" -> \"file:///content/\">"
            ]
          },
          "metadata": {},
          "execution_count": 5
        }
      ]
    },
    {
      "cell_type": "code",
      "source": [
        ""
      ],
      "metadata": {
        "id": "9LQ4aa3vcKty"
      },
      "execution_count": null,
      "outputs": []
    },
    {
      "cell_type": "code",
      "source": [
        "# app.py\n",
        "# %%writefile app.py\n",
        "import flask\n",
        "import werkzeug\n",
        "import time\n",
        "import shutil\n",
        "import os\n",
        "\n",
        "from torchvision import datasets, transforms, models\n",
        "from torch.utils.data import DataLoader\n",
        "import torch\n",
        "\n",
        "from pyngrok import ngrok, conf\n",
        "!ngrok authtoken 25uMNpsXbmgSIVmhcxWXOZFOuCb_Bn41M7pEGMqwwozkGHJA\n",
        "\n",
        "public_url = ngrok.connect(5000).public_url\n",
        "print(\" * ngrok tunnel \\\"{}\\\" -> \\\"http://127.0.0.1:{}/\\\"\".format(public_url, 5000))\n",
        "\n",
        "\n",
        "\n",
        "app = flask.Flask(__name__)\n",
        "\n",
        "STATIC_FOLDER = 'static'\n",
        "IMAGE_FOLDER = 'images'\n",
        "\n",
        "\n",
        "@app.route('/content/')\n",
        "def index():\n",
        "    return flask.render_template('index.html')\n",
        "\n",
        "\n",
        "@app.route('/content/upload', methods=['GET', 'POST'])\n",
        "def img_upload_file():\n",
        "    if flask.request.method == 'POST':\n",
        "        # check if the post request has the file part\n",
        "        if 'file' not in flask.request.files:\n",
        "            return flask.jsonify({'error': 1, 'message': 'No file part'})\n",
        "        file = flask.request.files['file']\n",
        "        # if user does not select file, browser also submit a empty part without filename\n",
        "        if file.filename == '':\n",
        "            return flask.jsonify({'error': 2, 'message': 'Empty filename submitted'})\n",
        "        if file and werkzeug.secure_filename(file.filename):\n",
        "            filename = werkzeug.secure_filename(file.filename)\n",
        "            saved_path = os.path.join(STATIC_FOLDER, IMAGE_FOLDER, filename)\n",
        "            file.save(saved_path)\n",
        "            return flask.jsonify({'error': 0, 'path': saved_path})\n",
        "    return flask.jsonify({'error': -1, 'message': 'Unknown error occured'})\n",
        "\n",
        "\n",
        "@app.route('/content/classify-url', methods=['GET'])\n",
        "def classify_url():\n",
        "    resp = requests.get(flask.request.args.get('url'))\n",
        "    img_bytes = BytesIO(resp.content).getvalue()\n",
        "    img = Image.open(io.BytesIO(img_bytes))\n",
        "    img_path = os.path.join(STATIC_FOLDER, IMAGE_FOLDER, 'classification.png')\n",
        "    img.save(img_path)\n",
        "\n",
        "    return flask.jsonify({'error': 0, 'path': img_path})\n",
        "\n",
        "\n",
        "if __name__ == \"__main__\":\n",
        "    app.run(host='0.0.0.0', port=5000, debug=False)"
      ],
      "metadata": {
        "colab": {
          "base_uri": "https://localhost:8080/"
        },
        "id": "mRqoWWeaqp6o",
        "outputId": "33a5b1b3-5f14-49df-948b-ffc9acd303d0"
      },
      "execution_count": null,
      "outputs": [
        {
          "output_type": "stream",
          "name": "stdout",
          "text": [
            "Authtoken saved to configuration file: /root/.ngrok2/ngrok.yml\n",
            " * ngrok tunnel \"http://580c-34-74-113-242.ngrok.io\" -> \"http://127.0.0.1:5000/\"\n",
            " * Serving Flask app \"__main__\" (lazy loading)\n",
            " * Environment: production\n",
            "\u001b[31m   WARNING: This is a development server. Do not use it in a production deployment.\u001b[0m\n",
            "\u001b[2m   Use a production WSGI server instead.\u001b[0m\n",
            " * Debug mode: off\n"
          ]
        },
        {
          "output_type": "stream",
          "name": "stderr",
          "text": [
            " * Running on http://0.0.0.0:5000/ (Press CTRL+C to quit)\n",
            "127.0.0.1 - - [07/Mar/2022 08:23:15] \"\u001b[33mGET / HTTP/1.1\u001b[0m\" 404 -\n",
            "127.0.0.1 - - [07/Mar/2022 08:23:15] \"\u001b[33mGET /favicon.ico HTTP/1.1\u001b[0m\" 404 -\n"
          ]
        }
      ]
    },
    {
      "cell_type": "code",
      "source": [
        "%%writefile /content/index.html\n",
        "<!DOCTYPE html>\n",
        "<html>\n",
        "<head>\n",
        "<title>PyTorch Template</title>\n",
        "</head>\n",
        "<body>\n",
        "<h1>PyTorch Template</h1>\n",
        "<a href=\"https://colab.research.google.com/github/davidtvs/pytorch-projects/blob/master/web_app/index.ipynb\">Open In Colab\n",
        "</a>\n",
        "<p>Current content loaded from <code>content/</code> directory.</p>\n",
        "</body>\n",
        "</html>"
      ],
      "metadata": {
        "id": "jLMWRt9scs_Q"
      },
      "execution_count": null,
      "outputs": []
    },
    {
      "cell_type": "code",
      "source": [
        "!pip install flask-ngrok"
      ],
      "metadata": {
        "id": "5tYC47i6WI0K"
      },
      "execution_count": null,
      "outputs": []
    },
    {
      "cell_type": "code",
      "source": [
        "from twilio.rest import Client\n",
        "\n",
        "account_sid = \"xxxxxxxxxxxxxxxxxxxxxxx\"\n",
        "auth_token = \"xxxxxxxxxxxxxxxxxxxxxxxxxxxxxxxxxxxxxxxx\"\n",
        "client = Client(account_sid, auth_token)\n",
        "\n",
        "#@title PLOT the list of numbers that we have sent our SMS messages to\n",
        "import matplotlib.pyplot as plt\n",
        "\n",
        "def plot_list(numbers):\n",
        "  y = [len(numbers)]\n",
        "  x = [1]\n",
        "  plt.scatter(x,y)\n",
        "  \n",
        "plot_list([1,23,34,45,1,3])"
      ],
      "metadata": {
        "id": "le1CACQ26PFw",
        "cellView": "form"
      },
      "execution_count": null,
      "outputs": []
    },
    {
      "cell_type": "markdown",
      "source": [
        "# New Section eXPERIMENTAL ⛺"
      ],
      "metadata": {
        "id": "g_6gIdCINg8N"
      }
    },
    {
      "cell_type": "code",
      "source": [
        "!pip install cryptography"
      ],
      "metadata": {
        "colab": {
          "base_uri": "https://localhost:8080/"
        },
        "id": "BVRPSAsvlKHf",
        "outputId": "8789cc95-acd8-4e63-94fc-bf2a0bdb802c"
      },
      "execution_count": null,
      "outputs": [
        {
          "output_type": "stream",
          "name": "stdout",
          "text": [
            "Collecting cryptography\n",
            "  Downloading cryptography-36.0.1-cp36-abi3-manylinux_2_24_x86_64.whl (3.6 MB)\n",
            "\u001b[K     |████████████████████████████████| 3.6 MB 4.4 MB/s \n",
            "\u001b[?25hRequirement already satisfied: cffi>=1.12 in /usr/local/lib/python3.7/dist-packages (from cryptography) (1.15.0)\n",
            "Requirement already satisfied: pycparser in /usr/local/lib/python3.7/dist-packages (from cffi>=1.12->cryptography) (2.21)\n",
            "Installing collected packages: cryptography\n",
            "Successfully installed cryptography-36.0.1\n"
          ]
        }
      ]
    },
    {
      "cell_type": "code",
      "source": [
        "import os\n",
        "\n",
        "from cryptography.hazmat.backends import default_backend\n",
        "from cryptography.hazmat.primitives.asymmetric import rsa\n",
        "from cryptography.hazmat.primitives.serialization import (\n",
        "    Encoding,\n",
        "    PublicFormat,\n",
        "    PrivateFormat,\n",
        "    NoEncryption\n",
        ")\n",
        "\n",
        "from twilio.http.validation_client import ValidationClient\n",
        "from twilio.rest import Client\n",
        "ACCOUNT_SID = ('xxxxxxxxxxxxxxxxxxxxxxxxxxxx')\n",
        "AUTH_TOKEN = ('xxxxxxxxxxxxxxxxxxxxxxxxx')\n",
        "\n",
        "def example():\n",
        "    \"\"\"\n",
        "    Example of using the ValidationClient for signed requests to Twilio.\n",
        "    This is only available to enterprise customers.\n",
        "    This will walkthrough creating an API Key, generating an RSA keypair, setting up a\n",
        "    ValidationClient with these values and making requests with the client.\n",
        "    \"\"\"\n",
        "ACCOUNT_SID = ('xxxxxxxxxxxxxxxxxxxxxxxxxxxxxxxxxx')\n",
        "AUTH_TOKEN = ('xxxxxxxxxxxxxxxxxxxxxxxxxxxxxxxxx')\n",
        "    \n",
        "    client = Client(ACCOUNT_SID, AUTH_TOKEN)\n",
        "\n",
        "    # Using Client Validation requires using API Keys for auth\n",
        "    # First create an API key using the standard account sid, auth token client\n",
        "    print('Creating new api key...')\n",
        "    api_key = client.new_keys.create(friendly_name='ClientValidationApiKey')\n",
        "\n",
        "    # Generate a new RSA Keypair\n",
        "    print('Generating RSA key pair...')\n",
        "    key_pair = rsa.generate_private_key(\n",
        "        public_exponent=65537,\n",
        "        key_size=2048,\n",
        "        backend=default_backend()\n",
        "    )\n",
        "    public_key = key_pair.public_key().public_bytes(Encoding.PEM, PublicFormat.SubjectPublicKeyInfo)\n",
        "    private_key = key_pair.private_bytes(Encoding.PEM, PrivateFormat.PKCS8, NoEncryption())\n",
        "\n",
        "    # Register the public key with Twilio\n",
        "    print('Registering public key with Twilio...')\n",
        "    credential = client.accounts.credentials.public_key.create(\n",
        "        public_key,\n",
        "        friendly_name='ClientValidationPublicKey'\n",
        "    )\n",
        "\n",
        "    # Create a new ValidationClient with the keys we created\n",
        "    validation_client = ValidationClient(\n",
        "        ACCOUNT_SID,\n",
        "        api_key.sid,\n",
        "        credential.sid,\n",
        "        private_key\n",
        "    )\n",
        "\n",
        "    # Create a REST Client using the validation_client\n",
        "    client = Client(api_key.sid, api_key.secret, ACCOUNT_SID, http_client=validation_client)\n",
        "\n",
        "    # Use the library as usual\n",
        "    print('Trying out client validation...')\n",
        "    messages = client.messages.list(limit=10)\n",
        "    for m in messages:\n",
        "        print('Message {}'.format(m.sid))\n",
        "\n",
        "    print('Client validation works!')\n",
        "\n",
        "\n",
        "if __name__ == '__main__':\n",
        "    example()"
      ],
      "metadata": {
        "colab": {
          "base_uri": "https://localhost:8080/",
          "height": 132
        },
        "id": "kJkmfP3bkktf",
        "outputId": "26d4f083-bb77-447f-ed02-404399384699"
      },
      "execution_count": null,
      "outputs": [
        {
          "output_type": "error",
          "ename": "IndentationError",
          "evalue": "ignored",
          "traceback": [
            "\u001b[0;36m  File \u001b[0;32m\"<ipython-input-12-d0b7fccd0515>\"\u001b[0;36m, line \u001b[0;32m31\u001b[0m\n\u001b[0;31m    client = Client(ACCOUNT_SID, AUTH_TOKEN)\u001b[0m\n\u001b[0m    ^\u001b[0m\n\u001b[0;31mIndentationError\u001b[0m\u001b[0;31m:\u001b[0m unexpected indent\n"
          ]
        }
      ]
    },
    {
      "cell_type": "code",
      "source": [
        "#@title get list of numbers that sent us SMS messages\n",
        "from twilio.rest import Client\n",
        "\n",
        "account_sid = \"xxxxxxxxxxxxxxxxxxxxxxx\"\n",
        "auth_token = \"xxxxxxxxxxxxxxxxxxxxxxxxxxxxxxxxxxxxxxxxxxx\"\n",
        "client = Client(account_sid, auth_token)\n",
        "\n",
        "for sms in client.messages.stream():\n",
        "  if sms.direction == 'inbound' and sms.from_ == '(650) 443-7781':\n",
        "    phone_numbers_list.append(sms.to)\n",
        "\n",
        "#@title get location of each number\n",
        "from geopy.geocoders import Nominatim # convert an address into latitude and longitude values\n",
        "from geopy import distance\n",
        "\n",
        "geolocator = Nominatim(user_agent=\"telespo\")\n",
        "\n",
        "unique_phone_numbers = list(dict.fromkeys(phone_numbers_list))\n",
        "\n",
        "for phone_number in unique_phone_numbers:\n",
        "    if phone_number[0] == '+':\n",
        "        location = geolocator.geocode(phone_number[1:])\n",
        "    else:\n",
        "        location = geolocator.geocode(phone_number)\n",
        "    phone_numbers_location[phone_number] = location.raw\n",
        "\n",
        "#@title get distance between every number\n",
        "from math import sin, cos, sqrt, atan2, radians\n",
        "from geopy import distance\n",
        "\n",
        "def dist(lat1, lon1, lat2, lon2):\n",
        "    # approximate radius of earth in km\n",
        "    R = 6373.0\n",
        "\n",
        "    lat1 = radians(lat1)\n",
        "    lon1 = radians(lon1)\n",
        "    lat2 = radians(lat2)\n",
        "    lon2 = radians(lon2)\n",
        "\n",
        "    dlon = lon2 - lon1\n",
        "    dlat = lat2 - lat1\n",
        "\n",
        "    a = sin(dlat / 2)**2 + cos(lat1) * cos(lat2) * sin(dlon / 2)**2\n",
        "    c = 2 * atan2(sqrt(a), sqrt(1 - a))\n",
        "\n",
        "    distance = R * c\n",
        "    return distance.km\n",
        "\n",
        "all_distances = {}\n",
        "\n",
        "for caller, info1 in phone_numbers_location.items():\n",
        "    for receiver, info2 in phone_numbers_location.items():\n",
        "        if caller != receiver:\n",
        "            d = dist(info1['lat'], info1['lon'], info2['lat'], info2['lon'])\n",
        "            distance = float(\"{0:.2f}\".format(d))\n",
        "            if d > 0.3:\n",
        "                if caller in all_distances:\n",
        "                    all_distances[caller].update({receiver: distance})\n",
        "                else:\n",
        "                    all_distances[caller] = {receiver: distance}"
      ],
      "metadata": {
        "colab": {
          "base_uri": "https://localhost:8080/",
          "height": 237
        },
        "id": "I0Y35a2c82Ea",
        "outputId": "8879132d-42b2-478c-ec97-7d46f7f559f2"
      },
      "execution_count": null,
      "outputs": [
        {
          "output_type": "error",
          "ename": "NameError",
          "evalue": "ignored",
          "traceback": [
            "\u001b[0;31m---------------------------------------------------------------------------\u001b[0m",
            "\u001b[0;31mNameError\u001b[0m                                 Traceback (most recent call last)",
            "\u001b[0;32m<ipython-input-14-4ea80bce55b3>\u001b[0m in \u001b[0;36m<module>\u001b[0;34m()\u001b[0m\n\u001b[1;32m     16\u001b[0m \u001b[0mgeolocator\u001b[0m \u001b[0;34m=\u001b[0m \u001b[0mNominatim\u001b[0m\u001b[0;34m(\u001b[0m\u001b[0muser_agent\u001b[0m\u001b[0;34m=\u001b[0m\u001b[0;34m\"telespo\"\u001b[0m\u001b[0;34m)\u001b[0m\u001b[0;34m\u001b[0m\u001b[0;34m\u001b[0m\u001b[0m\n\u001b[1;32m     17\u001b[0m \u001b[0;34m\u001b[0m\u001b[0m\n\u001b[0;32m---> 18\u001b[0;31m \u001b[0munique_phone_numbers\u001b[0m \u001b[0;34m=\u001b[0m \u001b[0mlist\u001b[0m\u001b[0;34m(\u001b[0m\u001b[0mdict\u001b[0m\u001b[0;34m.\u001b[0m\u001b[0mfromkeys\u001b[0m\u001b[0;34m(\u001b[0m\u001b[0mphone_numbers_list\u001b[0m\u001b[0;34m)\u001b[0m\u001b[0;34m)\u001b[0m\u001b[0;34m\u001b[0m\u001b[0;34m\u001b[0m\u001b[0m\n\u001b[0m\u001b[1;32m     19\u001b[0m \u001b[0;34m\u001b[0m\u001b[0m\n\u001b[1;32m     20\u001b[0m \u001b[0;32mfor\u001b[0m \u001b[0mphone_number\u001b[0m \u001b[0;32min\u001b[0m \u001b[0munique_phone_numbers\u001b[0m\u001b[0;34m:\u001b[0m\u001b[0;34m\u001b[0m\u001b[0;34m\u001b[0m\u001b[0m\n",
            "\u001b[0;31mNameError\u001b[0m: name 'phone_numbers_list' is not defined"
          ]
        }
      ]
    },
    {
      "cell_type": "code",
      "source": [
        "#@title Experimental\n",
        "\n",
        "from twilio.rest import Client\n",
        "\n",
        "account_sid = \"xxxxxxxxxxxxxxxxxxxxxxxxxxxxxx\"\n",
        "auth_token = \"xxxxxxxxxxxxxxxxxxxxxxxxxxxxxxxxxxx\"\n",
        "client = Client(account_sid, auth_token)\n",
        "\n",
        "for sms in client.messages.list():\n",
        "  print(sms.to)"
      ],
      "metadata": {
        "id": "hMvjRAId55xH"
      },
      "execution_count": null,
      "outputs": []
    },
    {
      "cell_type": "code",
      "source": [
        "#@title Experimental\n",
        "\n",
        "from twilio.rest import Client\n",
        "\n",
        "account_sid = \"xxxxxxxxxxxxxxxxxxxxxxxxxxxxxx\"\n",
        "auth_token = \"xxxxxxxxxxxxxxxxxxxxxxxxxx\"\n",
        "client = Client(account_sid, auth_token)\n",
        "\n",
        "for sms in client.messages.list():\n",
        "  print(sms.to)\n",
        "\n",
        "for sms in client.messages.stream():\n",
        "    print(sms.date_created)\n",
        "    print(sms.from_)\n",
        "    print(sms.body)\n",
        "    print(sms.sid)\n",
        "    print(\"\\n\")\n",
        "\n",
        "# get message from number +80750013271\n",
        "client.messages.list()[0].fetch()\n",
        "message_body = client.messages.list()[0].body\n",
        "\n",
        "#@title read message content\n",
        "from tensorflow.keras.preprocessing.text import Tokenizer\n",
        "from tensorflow.keras.preprocessing.sequence import pad_sequences\n",
        "\n",
        "text_list = message_body.split(\" \")\n",
        "\n",
        "tokenizer = Tokenizer()\n",
        "corpus = text_list\n",
        "tokenizer.fit_on_texts(corpus)\n",
        "\n",
        "#pad sequence in front of message\n",
        "max_length = max([len(text.split(\" \")) for text in corpus])\n",
        "sequences = tokenizer.texts_to_sequences(corpus)\n",
        "padded = pad_sequences(sequences, maxlen = max_length, padding = \"pre\")\n",
        "\n",
        "#@title load dictionary\n",
        "dictionary = []\n",
        "with open(\"dictionary.txt\", \"r\") as file:\n",
        "    for line in file:\n",
        "        dictionary.append(line.replace(\"\\n\", \"\"))\n",
        "\n",
        "#@title execute random action if message received can be interpreted\n",
        "import random\n",
        "n_words = len(dictionary)\n",
        "\n",
        "for text in padded:\n",
        "    for word in text:\n",
        "        if(word != 0 and word != 1):\n",
        "            if(random.randint(1, 100) == 1):\n",
        "                action = random.randint(0,n_words)\n",
        "                print(dictionary[action])\n",
        "\n",
        "#notes\n",
        "#execute code every time data is received\n",
        "#generate button to send a command to the machine\n",
        "#show the number of actions executed so far in the app"
      ],
      "metadata": {
        "id": "rUqFtcTYi3Vf"
      },
      "execution_count": null,
      "outputs": []
    }
  ]
}
