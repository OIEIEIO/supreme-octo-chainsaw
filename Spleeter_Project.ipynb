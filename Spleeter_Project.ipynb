{
  "nbformat": 4,
  "nbformat_minor": 0,
  "metadata": {
    "colab": {
      "name": "Spleeter Project",
      "provenance": [],
      "collapsed_sections": [],
      "include_colab_link": true
    },
    "kernelspec": {
      "display_name": "Python 3",
      "name": "python3"
    },
    "accelerator": "GPU"
  },
  "cells": [
    {
      "cell_type": "markdown",
      "metadata": {
        "id": "view-in-github",
        "colab_type": "text"
      },
      "source": [
        "<a href=\"https://colab.research.google.com/github/OIEIEIO/supreme-octo-chainsaw/blob/main/Spleeter_Project.ipynb\" target=\"_parent\"><img src=\"https://colab.research.google.com/assets/colab-badge.svg\" alt=\"Open In Colab\"/></a>"
      ]
    },
    {
      "cell_type": "code",
      "metadata": {
        "id": "Iboa748rz6lF"
      },
      "source": [
        "!pip install youtube-dl #for downloading video/audio from youtube\n",
        "!pip install spleeter #for separating audio/song into parts (vocals, drums, bass, piano, other)\n",
        "!pip3 install pydub #module that works with .wav files"
      ],
      "execution_count": null,
      "outputs": []
    },
    {
      "cell_type": "code",
      "metadata": {
        "id": "bIg8gbJo0EDr"
      },
      "source": [
        "import spleeter\n",
        "import youtube_dl\n",
        "import pydub\n",
        "\n",
        "from IPython.display import Audio, display\n",
        "from IPython.display import HTML"
      ],
      "execution_count": null,
      "outputs": []
    },
    {
      "cell_type": "code",
      "metadata": {
        "id": "cN7gxFLMAxiB"
      },
      "source": [
        "import IPython.display as ipd\n",
        "import sys"
      ],
      "execution_count": null,
      "outputs": []
    },
    {
      "cell_type": "markdown",
      "metadata": {
        "id": "NPp0eYPrreuu"
      },
      "source": [
        "THIS CELL IS OPTIONAL; JUST IF YOU WANT TO DISPLAY"
      ]
    },
    {
      "cell_type": "code",
      "metadata": {
        "id": "XfM3uOQ10NGi"
      },
      "source": [
        "url = \"letter code\" #the letter code after the \"=\" in the url\n",
        "embed_url = \"the entire url\".format(url)\n",
        "HTML('the embeded code') #you can find this when you click \"share\" and choose the \"embed\" option (iframe)"
      ],
      "execution_count": null,
      "outputs": []
    },
    {
      "cell_type": "code",
      "metadata": {
        "id": "oQoh-mvv0anT"
      },
      "source": [
        "ydl_args = {\n",
        "    'format': 'bestaudio/best',\n",
        "    'outtmpl': 'filename.mp3'\n",
        "}"
      ],
      "execution_count": null,
      "outputs": []
    },
    {
      "cell_type": "code",
      "metadata": {
        "id": "NDgrsRPrn4pS"
      },
      "source": [
        "ydl = youtube_dl.YoutubeDL(ydl_args)\n",
        "ydl.download(['entire url'])"
      ],
      "execution_count": null,
      "outputs": []
    },
    {
      "cell_type": "markdown",
      "metadata": {
        "id": "05U-PaverwNc"
      },
      "source": [
        "THIS CELL IS OPTIONAL; FOR DISPLAYING PART OF THE AUDIO"
      ]
    },
    {
      "cell_type": "code",
      "metadata": {
        "id": "QWx0znGw0jzg"
      },
      "source": [
        "display(Audio(audio[:, 0*rate:40*rate], rate=rate))"
      ],
      "execution_count": null,
      "outputs": []
    },
    {
      "cell_type": "code",
      "metadata": {
        "id": "rtt9qkOO01Nk"
      },
      "source": [
        "!spleeter separate -p spleeter:4stems -o output/ filename.mp3"
      ],
      "execution_count": null,
      "outputs": []
    },
    {
      "cell_type": "code",
      "metadata": {
        "id": "MEZZ5AbDAiv3"
      },
      "source": [
        "from pydub import AudioSegment\n",
        "sound = AudioSegment.from_wav(\"output/filename/vocals.wav\")\n",
        "sound.export(\"output/filename/vocals.mp3\", format=\"mp3\")\n",
        "sound = AudioSegment.from_wav(\"output/filename/drums.wav\")\n",
        "sound.export(\"output/filename/drums.mp3\", format=\"mp3\")\n",
        "sound = AudioSegment.from_wav(\"output/filename/bass.wav\")\n",
        "sound.export(\"output/filename/bass.mp3\", format=\"mp3\")\n",
        "sound = AudioSegment.from_wav(\"output/filename/other.wav\")\n",
        "sound.export(\"output/filename/other.mp3\", format=\"mp3\")"
      ],
      "execution_count": null,
      "outputs": []
    },
    {
      "cell_type": "code",
      "metadata": {
        "id": "Br6PGcTQA_o-"
      },
      "source": [
        "ipd.Audio('output/filename/vocals.mp3')"
      ],
      "execution_count": null,
      "outputs": []
    },
    {
      "cell_type": "code",
      "metadata": {
        "id": "bFK1tLADBysK"
      },
      "source": [
        "ipd.Audio('output/filename/drums.mp3')"
      ],
      "execution_count": null,
      "outputs": []
    },
    {
      "cell_type": "code",
      "metadata": {
        "id": "xu2ycTvyB3JQ"
      },
      "source": [
        "ipd.Audio('output/filename/bass.mp3')\n"
      ],
      "execution_count": null,
      "outputs": []
    },
    {
      "cell_type": "code",
      "metadata": {
        "id": "x07SuRYXCFwv"
      },
      "source": [
        "ipd.Audio('output/filename/other.mp3')"
      ],
      "execution_count": null,
      "outputs": []
    },
    {
      "cell_type": "code",
      "metadata": {
        "id": "NFfxUAQWB404"
      },
      "source": [
        "ipd.Audio('output/filename/piano.mp3')"
      ],
      "execution_count": null,
      "outputs": []
    }
  ]
}